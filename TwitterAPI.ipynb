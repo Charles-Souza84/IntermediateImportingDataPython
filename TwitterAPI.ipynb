{
 "cells": [
  {
   "attachments": {},
   "cell_type": "markdown",
   "metadata": {},
   "source": [
    "# Streaming tweets\n",
    "\n",
    "Demonstrativo de como criar um objeto stream e filtrar seu conteúdo com base em algumas palavras chave. A autenticação necessita de login feito no Twitter, o que não será feito neste caso. Além disso, é necessário importar o pacote tweepy.\n",
    "\n",
    "```python\n",
    "import tweepy\n",
    "# Store credentials in relevant variables\n",
    "consumer_key = \"nZ6EA0FxZ293SxGNg8g8aP0HM\"\n",
    "consumer_secret = \"fJGEodwe3KiKUnsYJC3VRndj7jevVvXbK2D5EiJ2nehafRgA6i\"\n",
    "access_token = \"1092294848-aHN7DcRP9B4VMTQIhwqOYiB14YkW92fFO8k8EPy\"\n",
    "access_token_secret = \"X4dHmhPfaksHcQ7SCbmZa2oYBBVSD2g8uIHXsp5CTaksx\"\n",
    "\n",
    "# Create your Stream object with credentials\n",
    "stream = tweepy.Stream(consumer_key, consumer_secret, access_token, access_token_secret)\n",
    "\n",
    "# Filter your Stream variable\n",
    "stream.filter(track=['clinton', 'trump', 'sanders', 'cruz'])\n",
    "```"
   ]
  },
  {
   "attachments": {},
   "cell_type": "markdown",
   "metadata": {},
   "source": [
    "# Carregar e explorar os dados do Twitter\n",
    "\n",
    "A partir do procedimento acima, podemos gerar um arquivo .txt com o conteúdo extraído do Twitter, que será agora carregado em uma lista. "
   ]
  },
  {
   "cell_type": "code",
   "execution_count": 2,
   "metadata": {},
   "outputs": [
    {
     "name": "stdout",
     "output_type": "stream",
     "text": [
      "dict_keys(['in_reply_to_user_id', 'created_at', 'filter_level', 'truncated', 'possibly_sensitive', 'timestamp_ms', 'user', 'text', 'extended_entities', 'in_reply_to_status_id', 'entities', 'favorited', 'retweeted', 'is_quote_status', 'id', 'favorite_count', 'retweeted_status', 'in_reply_to_status_id_str', 'in_reply_to_user_id_str', 'id_str', 'in_reply_to_screen_name', 'coordinates', 'lang', 'place', 'contributors', 'geo', 'retweet_count', 'source'])\n"
     ]
    }
   ],
   "source": [
    "# importando biblioteca json\n",
    "import json\n",
    "\n",
    "# string com o caminho do arquivo tweets.txt\n",
    "tweets_data_path = 'tweets.txt'\n",
    "\n",
    "# inicializando uma lista vazia para armazenar os tweets\n",
    "tweets_data = []\n",
    "\n",
    "# abrindo conexão com o arquivo\n",
    "tweets_file = open(tweets_data_path, \"r\")\n",
    "\n",
    "# laço que lê o arquivo txt e popula a lista\n",
    "for line in tweets_file:\n",
    "    tweet = json.loads(line)\n",
    "    tweets_data.append(tweet)\n",
    "\n",
    "# fechando a conexão com o arquivo\n",
    "tweets_file.close()\n",
    "\n",
    "# imprimindo as chaves do primeiro dicionário de tweet\n",
    "print(tweets_data[0].keys())\n"
   ]
  },
  {
   "attachments": {},
   "cell_type": "markdown",
   "metadata": {},
   "source": [
    "# Dados do Twitter em um Dataframe\n",
    "\n",
    "A etapa realizada anteriormente gerou uma lista de dicionários em que cada dicionário corresponde a um tweet. Agora serão salvas em um dataframe as informações correspondentes ao texto e idioma de um tweet, nas colunas _text_ e _lang_ respectivamente: \n"
   ]
  },
  {
   "cell_type": "code",
   "execution_count": 3,
   "metadata": {},
   "outputs": [
    {
     "name": "stdout",
     "output_type": "stream",
     "text": [
      "                                                text lang\n",
      "0  RT @bpolitics: .@krollbondrating's Christopher...   en\n",
      "1  RT @HeidiAlpine: @dmartosko Cruz video found.....   en\n",
      "2  Njihuni me Zonjën Trump !!! | Ekskluzive https...   et\n",
      "3  Your an idiot she shouldn't have tried to grab...   en\n",
      "4  RT @AlanLohner: The anti-American D.C. elites ...   en\n"
     ]
    }
   ],
   "source": [
    "# importando Pandas\n",
    "import pandas as pd\n",
    "\n",
    "# criando o dataframe de text e idioma dos tweets\n",
    "df = pd.DataFrame(tweets_data, columns=['text', 'lang'])\n",
    "\n",
    "# imprimindo o head do dataframe\n",
    "print(df.head())\n"
   ]
  },
  {
   "attachments": {},
   "cell_type": "markdown",
   "metadata": {},
   "source": [
    "# Um pouco mais sobre análise de texto do Twitter\n",
    "\n",
    "Com base no dataframe gerado, será feita uma contagem dos tweets que contenham as palavras 'clinton', 'trump', 'sanders' e 'cruz'."
   ]
  },
  {
   "cell_type": "code",
   "execution_count": 4,
   "metadata": {},
   "outputs": [],
   "source": [
    "import re\n",
    "# função que retorna a presença/ausência da palavra procurada( primeiro argumento ) no texto ( segundo argumento )\n",
    "def word_in_text(word, text):\n",
    "    word = word.lower()\n",
    "    text = text.lower()\n",
    "    match = re.search(word, text)\n",
    "\n",
    "    if match:\n",
    "        return True\n",
    "    return False\n",
    "\n",
    "# inicializando a lista de contagem\n",
    "[clinton, trump, sanders, cruz] = [0, 0, 0, 0]\n",
    "\n",
    "# laço em que é feita a contagem de ocorrências de cada palavra procurada, sendo feita a chamada da função word_in_text\n",
    "for index, row in df.iterrows():\n",
    "    clinton += word_in_text('clinton', row['text'])\n",
    "    trump += word_in_text('trump', row['text'])\n",
    "    sanders += word_in_text('sanders', row['text'])\n",
    "    cruz += word_in_text('cruz', row['text'])\n"
   ]
  },
  {
   "attachments": {},
   "cell_type": "markdown",
   "metadata": {},
   "source": [
    "# Plotando o resultado da contagem\n",
    "\n",
    "Com base na contagem feita na etapa anterior será plotado um gráfico de barras representando o número de ocorrência de cada palavra definida na busca."
   ]
  },
  {
   "cell_type": "code",
   "execution_count": 20,
   "metadata": {},
   "outputs": [
    {
     "data": {
      "image/png": "[encoded data removed]",
      "text/plain": [
       "<Figure size 640x480 with 1 Axes>"
      ]
     },
     "metadata": {},
     "output_type": "display_data"
    }
   ],
   "source": [
    "# Import packages\n",
    "import seaborn as sns\n",
    "import matplotlib.pyplot as plt\n",
    "\n",
    "# utilizando  estilo seaborn\n",
    "sns.set(color_codes=True)\n",
    "\n",
    "# criando uma lista com label do eixo x\n",
    "cd = ['clinton', 'trump', 'sanders', 'cruz']\n",
    "\n",
    "# plotando o gráfico de barras\n",
    "plt.bar(cd, [clinton, trump, sanders, cruz])\n",
    "plt.show()"
   ]
  }
 ],
 "metadata": {
  "kernelspec": {
   "display_name": "Python 3",
   "language": "python",
   "name": "python3"
  },
  "language_info": {
   "codemirror_mode": {
    "name": "ipython",
    "version": 3
   },
   "file_extension": ".py",
   "mimetype": "text/x-python",
   "name": "python",
   "nbconvert_exporter": "python",
   "pygments_lexer": "ipython3",
   "version": "3.10.4"
  },
  "orig_nbformat": 4,
  "vscode": {
   "interpreter": {
    "hash": "a42ccb73e7d9bfdf27e036f1d2b8b681e55fc0743cc5586bc2474d4a60f4b886"
   }
  }
 },
 "nbformat": 4,
 "nbformat_minor": 2
}
